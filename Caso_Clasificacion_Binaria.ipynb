{
  "nbformat": 4,
  "nbformat_minor": 0,
  "metadata": {
    "colab": {
      "name": "Caso_Clasificacion_Binaria.ipynb",
      "version": "0.3.2",
      "provenance": [],
      "collapsed_sections": [],
      "include_colab_link": true
    },
    "kernelspec": {
      "name": "python3",
      "display_name": "Python 3"
    }
  },
  "cells": [
    {
      "cell_type": "markdown",
      "metadata": {
        "id": "view-in-github",
        "colab_type": "text"
      },
      "source": [
        "<a href=\"https://colab.research.google.com/github/jtaquia/CURSO-ANALITICA-PREDICTIVA/blob/Clasificacion-supervisada/Caso_Clasificacion_Binaria.ipynb\" target=\"_parent\"><img src=\"https://colab.research.google.com/assets/colab-badge.svg\" alt=\"Open In Colab\"/></a>"
      ]
    },
    {
      "metadata": {
        "id": "1xO-v9i5nZTQ",
        "colab_type": "code",
        "colab": {}
      },
      "cell_type": "code",
      "source": [
        "import pandas as pd\n",
        "import matplotlib.pyplot as plt\n",
        "import os\n",
        "plt.style.use('fivethirtyeight')\n",
        "import warnings\n",
        "warnings.filterwarnings('ignore')\n"
      ],
      "execution_count": 0,
      "outputs": []
    },
    {
      "metadata": {
        "id": "0fZ6xHBKngOz",
        "colab_type": "code",
        "colab": {}
      },
      "cell_type": "code",
      "source": [
        "data=pd.read_csv('train.csv')\n",
        "data.head()"
      ],
      "execution_count": 0,
      "outputs": []
    },
    {
      "metadata": {
        "id": "B2YCYShhnigi",
        "colab_type": "code",
        "colab": {}
      },
      "cell_type": "code",
      "source": [
        "data.isnull().sum() #checking for total null values\n",
        "\n",
        "data['Initial']=0\n",
        "for i in data:\n",
        "    data['Initial']=data.Name.str.extract('([A-Za-z]+)\\.')\n",
        "\n",
        "    pd.crosstab(data.Initial,data.Sex).T \n",
        "\n",
        "data['Initial'].replace(['Mlle','Mme','Ms','Dr','Major','Lady','Countess','Jonkheer','Col','Rev','Capt','Sir','Don'],['Miss','Miss','Miss','Mr','Mr','Mrs','Mrs','Other','Other','Other','Mr','Mr','Mr'],inplace=True)\n",
        "data.groupby('Initial')['Age'].mean() #lets check the average age by Initials\n",
        "\n",
        "## Assigning the NaN Values with the Ceil values of the mean ages\n",
        "data.loc[(data.Age.isnull())&(data.Initial=='Mr'),'Age']=33\n",
        "data.loc[(data.Age.isnull())&(data.Initial=='Mrs'),'Age']=36\n",
        "data.loc[(data.Age.isnull())&(data.Initial=='Master'),'Age']=5\n",
        "data.loc[(data.Age.isnull())&(data.Initial=='Miss'),'Age']=22\n",
        "data.loc[(data.Age.isnull())&(data.Initial=='Other'),'Age']=46\n",
        "\n",
        "data.Age.isnull().any() #So no null values left finally "
      ],
      "execution_count": 0,
      "outputs": []
    },
    {
      "metadata": {
        "id": "5Hv5MEZKnlnh",
        "colab_type": "code",
        "colab": {}
      },
      "cell_type": "code",
      "source": [
        ""
      ],
      "execution_count": 0,
      "outputs": []
    },
    {
      "metadata": {
        "id": "YP0QkuDqnngC",
        "colab_type": "code",
        "colab": {}
      },
      "cell_type": "code",
      "source": [
        "print('Highest Fare was:',data['Fare'].max())\n",
        "print('Lowest Fare was:',data['Fare'].min())\n",
        "print('Average Fare was:',data['Fare'].mean())"
      ],
      "execution_count": 0,
      "outputs": []
    },
    {
      "metadata": {
        "id": "pdk-Z_iHnoIC",
        "colab_type": "code",
        "colab": {}
      },
      "cell_type": "code",
      "source": [
        "newlist =pd.DataFrame( [round(x) for x in data['Fare']])\n",
        "\n",
        "hstack = pd.concat([data, newlist], axis=1)"
      ],
      "execution_count": 0,
      "outputs": []
    },
    {
      "metadata": {
        "id": "hEsvSKvknqwy",
        "colab_type": "code",
        "colab": {}
      },
      "cell_type": "code",
      "source": [
        "hstack.rename(columns={'0': 'Rounded'}) #, inplace=True)\n",
        "hstack.head()"
      ],
      "execution_count": 0,
      "outputs": []
    },
    {
      "metadata": {
        "id": "8FQFmwBAnsZy",
        "colab_type": "code",
        "colab": {}
      },
      "cell_type": "code",
      "source": [
        "data['Age_band']=0\n",
        "data.loc[data['Age']<=16,'Age_band']=0\n",
        "data.loc[(data['Age']>16)&(data['Age']<=32),'Age_band']=1\n",
        "data.loc[(data['Age']>32)&(data['Age']<=48),'Age_band']=2\n",
        "data.loc[(data['Age']>48)&(data['Age']<=64),'Age_band']=3\n",
        "data.loc[data['Age']>64,'Age_band']=4\n",
        "data.head(2)"
      ],
      "execution_count": 0,
      "outputs": []
    },
    {
      "metadata": {
        "id": "CXO5Cmn7nuNa",
        "colab_type": "code",
        "colab": {}
      },
      "cell_type": "code",
      "source": [
        "data['Age_band'].value_counts().to_frame()#.style.background_gradient(cmap='summer')#checking the number of passenegers in each band"
      ],
      "execution_count": 0,
      "outputs": []
    },
    {
      "metadata": {
        "id": "MXeiaRbNnwO6",
        "colab_type": "code",
        "colab": {}
      },
      "cell_type": "code",
      "source": [
        "data['Family_Size']=0\n",
        "data['Family_Size']=data['Parch']+data['SibSp']#family size\n",
        "data['Alone']=0\n",
        "data.loc[data.Family_Size==0,'Alone']=1#Alone\n",
        "\n",
        "data['Fare_Range']=pd.qcut(data['Fare'],4)\n",
        "data.groupby(['Fare_Range'])['Survived'].mean().to_frame()"
      ],
      "execution_count": 0,
      "outputs": []
    },
    {
      "metadata": {
        "id": "LLzynTs9nz0C",
        "colab_type": "code",
        "colab": {}
      },
      "cell_type": "code",
      "source": [
        "from sklearn.linear_model import LogisticRegression #logistic regression\n",
        "from sklearn.tree import DecisionTreeClassifier #Decision Tree\n",
        "from sklearn.model_selection import train_test_split #training and testing data split\n",
        "from sklearn import metrics #accuracy measure\n",
        "from sklearn.metrics import confusion_matrix #for confusion matrix"
      ],
      "execution_count": 0,
      "outputs": []
    },
    {
      "metadata": {
        "id": "VpEKQQhfn2MK",
        "colab_type": "code",
        "colab": {}
      },
      "cell_type": "code",
      "source": [
        "data.isnull().sum() #checking for total null values\n",
        "del data['Cabin']\n",
        "data = data.dropna(how='any',axis=0) \n",
        "data.shape"
      ],
      "execution_count": 0,
      "outputs": []
    },
    {
      "metadata": {
        "id": "-13yOeL-n4ES",
        "colab_type": "code",
        "colab": {}
      },
      "cell_type": "code",
      "source": [
        "train,test=train_test_split(data,test_size=0.3,random_state=0,stratify=data['Survived'])\n",
        "train.isnull().sum() #checking for total null values\n",
        "test.isnull().sum() #checking for total null values\n"
      ],
      "execution_count": 0,
      "outputs": []
    },
    {
      "metadata": {
        "id": "ipcFvCyNn9Fa",
        "colab_type": "code",
        "colab": {}
      },
      "cell_type": "code",
      "source": [
        "train.shape\n",
        "test.shape\n",
        "\n",
        "\n",
        "train.head(5)\n",
        "\n",
        "del train['Name']\n",
        "del train['PassengerId']\n",
        "del train['Ticket']\n",
        "del train['Fare_Range']\n",
        "\n",
        "del test['Name']\n",
        "del test['PassengerId']\n",
        "del test['Ticket']\n",
        "del test['Fare_Range']\n",
        "\n",
        "train_X = train[train.columns[1:]]\n",
        "train_X.shape\n",
        "train_X"
      ],
      "execution_count": 0,
      "outputs": []
    },
    {
      "metadata": {
        "id": "njqV-6--n9-q",
        "colab_type": "code",
        "colab": {}
      },
      "cell_type": "code",
      "source": [
        "print(train.describe())\n",
        "print(train.columns)\n",
        "train.shape\n",
        "test.shape"
      ],
      "execution_count": 0,
      "outputs": []
    },
    {
      "metadata": {
        "id": "RKKFTvKKoATS",
        "colab_type": "code",
        "colab": {}
      },
      "cell_type": "code",
      "source": [
        "mapping = {'Mr': 1, 'Mrs': 2,'Master':3,'Miss':4,'Other':5}\n",
        "mapping2 ={'S':1,'C':2,'Q':3}\n",
        "mapping3 ={'male':1,'female':2}\n"
      ],
      "execution_count": 0,
      "outputs": []
    },
    {
      "metadata": {
        "id": "WwgUOmlWoCSi",
        "colab_type": "code",
        "colab": {}
      },
      "cell_type": "code",
      "source": [
        "a_x2 = train_X.replace({'Initial': mapping,'Embarked':mapping2,'Sex':mapping3}).values\n",
        "a_x2.shape\n",
        "a_x2\n",
        "numrows = len(a_x2)    #\n",
        "numrows\n",
        "print(type(a_x2))"
      ],
      "execution_count": 0,
      "outputs": []
    },
    {
      "metadata": {
        "id": "D1l17P8EoEJy",
        "colab_type": "code",
        "colab": {}
      },
      "cell_type": "code",
      "source": [
        "train_Y=train[train.columns[0]]\n",
        "print(type(train_Y))#<class 'pandas.core.series.Series'>\n",
        "train_Y.shape\n",
        "a_y2 = train_Y.values\n",
        "a_y2.shape\n",
        "print(type(a_y2)) #<class 'numpy.ndarray'>\n",
        "a_y2.shape\n"
      ],
      "execution_count": 0,
      "outputs": []
    },
    {
      "metadata": {
        "id": "Pl-RaqbvoGBS",
        "colab_type": "code",
        "colab": {}
      },
      "cell_type": "code",
      "source": [
        "model = LogisticRegression()\n",
        "model.fit(a_x2,a_y2)\n"
      ],
      "execution_count": 0,
      "outputs": []
    },
    {
      "metadata": {
        "id": "wPC9OjjmoH8K",
        "colab_type": "code",
        "colab": {}
      },
      "cell_type": "code",
      "source": [
        "test.shape"
      ],
      "execution_count": 0,
      "outputs": []
    },
    {
      "metadata": {
        "id": "gXUPrNrMoJyS",
        "colab_type": "code",
        "colab": {}
      },
      "cell_type": "code",
      "source": [
        "test_X=test[test.columns[1:]]\n",
        "test_X.head(5)\n",
        "test_X.shape\n",
        "#test.shape\n",
        "#test.head(5)\n"
      ],
      "execution_count": 0,
      "outputs": []
    },
    {
      "metadata": {
        "id": "0zgpOJjloLXa",
        "colab_type": "code",
        "colab": {}
      },
      "cell_type": "code",
      "source": [
        "b_x2 = test_X.replace({'Initial': mapping,'Embarked':mapping2,'Sex':mapping3}).values\n",
        "b_x2.shape\n",
        "print(type(b_x2))#<class 'numpy.ndarray'>\n",
        "\n",
        "\n",
        "test_Y=test[test.columns[0]]\n",
        "print(type(test_Y)) #<class 'pandas.core.series.Series'>\n",
        "\n",
        "\n",
        "test_Y\n",
        "b_y2 = test_Y.values\n",
        "print(type(b_y2)) #<class 'numpy.ndarray'>\n",
        "numrows = len(b_y2)    #\n",
        "numrows"
      ],
      "execution_count": 0,
      "outputs": []
    },
    {
      "metadata": {
        "id": "t-R462UuoNeS",
        "colab_type": "code",
        "colab": {}
      },
      "cell_type": "code",
      "source": [
        "prediction1=model.predict(b_x2)\n",
        "print('The accuracy of the Logistic Regression is',metrics.accuracy_score(prediction1,b_y2))"
      ],
      "execution_count": 0,
      "outputs": []
    },
    {
      "metadata": {
        "id": "dPBSfI5AoP2y",
        "colab_type": "code",
        "colab": {}
      },
      "cell_type": "code",
      "source": [
        "model2=DecisionTreeClassifier()\n",
        "model2.fit(a_x2,a_y2)\n",
        "prediction2=model2.predict(b_x2)\n",
        "print('The accuracy of the Decision Tree is',metrics.accuracy_score(prediction2,b_y2))\n"
      ],
      "execution_count": 0,
      "outputs": []
    },
    {
      "metadata": {
        "id": "edOcdn5YoR7y",
        "colab_type": "code",
        "colab": {}
      },
      "cell_type": "code",
      "source": [
        "from sklearn.model_selection import KFold #for K-fold cross validation\n",
        "from sklearn.model_selection import cross_val_score #score evaluation\n",
        "from sklearn.model_selection import cross_val_predict #prediction\n",
        "kfold = KFold(n_splits=10, random_state=22) # k=10, split the data into 10 equal parts\n",
        "xyz=[]\n",
        "accuracy=[]\n",
        "std=[]\n",
        "classifiers=['Logistic Regression']\n",
        "models=[LogisticRegression()]\n",
        "for i in models:\n",
        "    model = i\n",
        "    cv_result = cross_val_score(model,b_x2,b_y2, cv = kfold,scoring = \"accuracy\")\n",
        "    cv_result=cv_result\n",
        "    print(cv_result)\n",
        "    xyz.append(cv_result.mean())\n",
        "    std.append(cv_result.std())\n",
        "    accuracy.append(cv_result)\n",
        "new_models_dataframe2=pd.DataFrame({'CV Mean':xyz,'Std':std},index=classifiers)       \n",
        "new_models_dataframe2"
      ],
      "execution_count": 0,
      "outputs": []
    },
    {
      "metadata": {
        "id": "1vOZIL1RoVFi",
        "colab_type": "code",
        "colab": {}
      },
      "cell_type": "code",
      "source": [
        "plt.subplots(figsize=(12,6))\n",
        "box=pd.DataFrame(accuracy,index=[classifiers])\n",
        "box.T.boxplot()"
      ],
      "execution_count": 0,
      "outputs": []
    }
  ]
}