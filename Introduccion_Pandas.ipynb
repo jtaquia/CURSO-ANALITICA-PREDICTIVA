{
  "nbformat": 4,
  "nbformat_minor": 0,
  "metadata": {
    "colab": {
      "name": "Introduccion_Pandas.ipynb",
      "version": "0.3.2",
      "provenance": [],
      "collapsed_sections": [],
      "include_colab_link": true
    },
    "kernelspec": {
      "name": "python3",
      "display_name": "Python 3"
    }
  },
  "cells": [
    {
      "cell_type": "markdown",
      "metadata": {
        "id": "view-in-github",
        "colab_type": "text"
      },
      "source": [
        "<a href=\"https://colab.research.google.com/github/jtaquia/CURSO-ANALITICA-PREDICTIVA/blob/Curso_Analitica_Predictiva_Semana_1/Introduccion_Pandas.ipynb\" target=\"_parent\"><img src=\"https://colab.research.google.com/assets/colab-badge.svg\" alt=\"Open In Colab\"/></a>"
      ]
    },
    {
      "metadata": {
        "id": "JCmB3zuRSugg",
        "colab_type": "code",
        "colab": {}
      },
      "cell_type": "code",
      "source": [
        "import pandas as pd"
      ],
      "execution_count": 0,
      "outputs": []
    },
    {
      "metadata": {
        "id": "0B4w0AH5eb4m",
        "colab_type": "text"
      },
      "cell_type": "markdown",
      "source": [
        "Tratamiento de Datos utilizando Pandas. Operaciones y filtrado\n"
      ]
    },
    {
      "metadata": {
        "id": "RHhAwNXfeo0u",
        "colab_type": "code",
        "colab": {
          "base_uri": "https://localhost:8080/",
          "height": 119
        },
        "outputId": "035cf26b-635c-44e4-ab89-bef3418fc250"
      },
      "cell_type": "code",
      "source": [
        "data = [34, 56, 37,80 , 77]\n",
        "serie_A = pd.Series(data)\n",
        "print(serie_A)"
      ],
      "execution_count": 7,
      "outputs": [
        {
          "output_type": "stream",
          "text": [
            "0    34\n",
            "1    56\n",
            "2    37\n",
            "3    80\n",
            "4    77\n",
            "dtype: int64\n"
          ],
          "name": "stdout"
        }
      ]
    },
    {
      "metadata": {
        "id": "rbAIUsXwfP6e",
        "colab_type": "code",
        "colab": {
          "base_uri": "https://localhost:8080/",
          "height": 34
        },
        "outputId": "7c9422dd-2785-431b-ec70-ca513ae470aa"
      },
      "cell_type": "code",
      "source": [
        "print(serie_A.index)"
      ],
      "execution_count": 4,
      "outputs": [
        {
          "output_type": "stream",
          "text": [
            "RangeIndex(start=0, stop=5, step=1)\n"
          ],
          "name": "stdout"
        }
      ]
    },
    {
      "metadata": {
        "id": "nVUSqqXPfzDn",
        "colab_type": "code",
        "colab": {
          "base_uri": "https://localhost:8080/",
          "height": 34
        },
        "outputId": "89dc2522-f960-4c5e-a2da-d100a2b07bfd"
      },
      "cell_type": "code",
      "source": [
        "print(serie_A.values)"
      ],
      "execution_count": 5,
      "outputs": [
        {
          "output_type": "stream",
          "text": [
            "[34 56 37 80 77]\n"
          ],
          "name": "stdout"
        }
      ]
    },
    {
      "metadata": {
        "colab_type": "code",
        "id": "X8sFychbhfRX",
        "colab": {
          "base_uri": "https://localhost:8080/",
          "height": 221
        },
        "outputId": "75327e7b-51f7-4c4f-9d72-4000a6ed1e59"
      },
      "cell_type": "code",
      "source": [
        "data = [34, 56, 37,80 , 77]\n",
        "serie_A = pd.Series(data)\n",
        "cursos = [\"historia\",\"lenguaje\",\"arte\",\"algebra\",\"botanica\"]\n",
        "A = pd.Series(cursos)\n",
        "#print(serie_A,cursos)\n",
        "S = pd.Series(cursos, index = serie_A)\n",
        "G = pd.Series(serie_A.values, index = cursos)\n",
        "print(S)\n",
        "print(G)\n",
        "\n"
      ],
      "execution_count": 18,
      "outputs": [
        {
          "output_type": "stream",
          "text": [
            "34    historia\n",
            "56    lenguaje\n",
            "37        arte\n",
            "80     algebra\n",
            "77    botanica\n",
            "dtype: object\n",
            "historia    34\n",
            "lenguaje    56\n",
            "arte        37\n",
            "algebra     80\n",
            "botanica    77\n",
            "dtype: int64\n"
          ],
          "name": "stdout"
        }
      ]
    },
    {
      "metadata": {
        "id": "q4Yap-2Okeii",
        "colab_type": "text"
      },
      "cell_type": "markdown",
      "source": [
        "Como se observa cuando se trabaja en Pandas con Series se puede obtener el Indice con  index y los valores utilizando list.values"
      ]
    },
    {
      "metadata": {
        "id": "K3Bs9mspkVjp",
        "colab_type": "code",
        "colab": {}
      },
      "cell_type": "code",
      "source": [
        "# También se pueden hacer operaciones con los valores de una serie\n",
        "print( serie_A + 3)\n",
        "\n",
        "print(sum(serie_A))\n",
        "\n",
        "\n",
        "\n"
      ],
      "execution_count": 0,
      "outputs": []
    },
    {
      "metadata": {
        "id": "yIhn6Kurl7UK",
        "colab_type": "code",
        "colab": {}
      },
      "cell_type": "code",
      "source": [
        "print(G > 60)\n",
        "\n",
        "print(G[G>60])\n"
      ],
      "execution_count": 0,
      "outputs": []
    },
    {
      "metadata": {
        "id": "wl3NL2HumKfS",
        "colab_type": "text"
      },
      "cell_type": "markdown",
      "source": [
        "ADEMAS DE LISTAS SE PUEDE TRABAJAR EN PANDAS CON DICCIONARIOS"
      ]
    },
    {
      "metadata": {
        "id": "_u5vRSsmmJ_p",
        "colab_type": "code",
        "colab": {}
      },
      "cell_type": "code",
      "source": [
        "dict = { \"Lima\": 3453233, \"Ayacucho\":63637773 , \"Cajamarca\": 9382772 , \"Puno\": 52444416, \"Ica\": 827166922}\n",
        "print(dict)\n",
        "print(type(dict))"
      ],
      "execution_count": 0,
      "outputs": []
    },
    {
      "metadata": {
        "id": "joGnCOK6nP8a",
        "colab_type": "code",
        "colab": {}
      },
      "cell_type": "code",
      "source": [
        ""
      ],
      "execution_count": 0,
      "outputs": []
    }
  ]
}