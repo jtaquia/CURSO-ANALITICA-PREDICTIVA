{
  "nbformat": 4,
  "nbformat_minor": 0,
  "metadata": {
    "colab": {
      "name": "Introduccion a Notebooks en Google colab.ipynb",
      "version": "0.3.2",
      "provenance": [],
      "collapsed_sections": [],
      "include_colab_link": true
    },
    "kernelspec": {
      "name": "python3",
      "display_name": "Python 3"
    }
  },
  "cells": [
    {
      "cell_type": "markdown",
      "metadata": {
        "id": "view-in-github",
        "colab_type": "text"
      },
      "source": [
        "<a href=\"https://colab.research.google.com/github/jtaquia/CURSO-ANALITICA-PREDICTIVA/blob/Curso_Analitica_Predictiva_Semana_1/Introduccion_a_Notebooks_en_Google_colab.ipynb\" target=\"_parent\"><img src=\"https://colab.research.google.com/assets/colab-badge.svg\" alt=\"Open In Colab\"/></a>"
      ]
    },
    {
      "metadata": {
        "id": "Ajei5PQuYKZo",
        "colab_type": "code",
        "colab": {}
      },
      "cell_type": "code",
      "source": [
        ""
      ],
      "execution_count": 0,
      "outputs": []
    },
    {
      "metadata": {
        "id": "FeGqvqT8YK6x",
        "colab_type": "text"
      },
      "cell_type": "markdown",
      "source": [
        "INTRODUCCION A JUPYTER NOTEBOOKS EN GOOGLE COLAB"
      ]
    },
    {
      "metadata": {
        "id": "A4mHvtpqYRNn",
        "colab_type": "text"
      },
      "cell_type": "markdown",
      "source": [
        "EJEMPLO PARA INSTALAR NUEVAS LIBRERÍAS DE PYTHON"
      ]
    },
    {
      "metadata": {
        "id": "7lYKqVs2YQ2X",
        "colab_type": "code",
        "outputId": "57cdb3d0-464f-47d9-f62f-329c4b07599e",
        "colab": {
          "base_uri": "https://localhost:8080/",
          "height": 51
        }
      },
      "cell_type": "code",
      "source": [
        "!pip install scipy"
      ],
      "execution_count": 0,
      "outputs": [
        {
          "output_type": "stream",
          "text": [
            "Requirement already satisfied: scipy in /usr/local/lib/python3.6/dist-packages (1.1.0)\n",
            "Requirement already satisfied: numpy>=1.8.2 in /usr/local/lib/python3.6/dist-packages (from scipy) (1.14.6)\n"
          ],
          "name": "stdout"
        }
      ]
    },
    {
      "metadata": {
        "id": "NR4KRylkYmzH",
        "colab_type": "text"
      },
      "cell_type": "markdown",
      "source": [
        "EJEMPLO PARA LLAMAR UNA LIBRERIA DE PYTHON "
      ]
    },
    {
      "metadata": {
        "id": "BimrL-V1YPkP",
        "colab_type": "code",
        "colab": {}
      },
      "cell_type": "code",
      "source": [
        "import os"
      ],
      "execution_count": 0,
      "outputs": []
    },
    {
      "metadata": {
        "id": "6hdi8yV7YvGH",
        "colab_type": "text"
      },
      "cell_type": "markdown",
      "source": [
        "EJEMPLO PARA SUBIR DATOS  y CORRER LOS EJEMPLOS"
      ]
    },
    {
      "metadata": {
        "id": "f6BgyfxlY3wH",
        "colab_type": "code",
        "colab": {}
      },
      "cell_type": "code",
      "source": [
        ""
      ],
      "execution_count": 0,
      "outputs": []
    }
  ]
}