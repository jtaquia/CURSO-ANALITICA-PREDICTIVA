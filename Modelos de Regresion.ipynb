{
  "nbformat": 4,
  "nbformat_minor": 0,
  "metadata": {
    "colab": {
      "name": "Untitled0.ipynb",
      "version": "0.3.2",
      "provenance": [],
      "include_colab_link": true
    },
    "kernelspec": {
      "name": "python3",
      "display_name": "Python 3"
    }
  },
  "cells": [
    {
      "cell_type": "markdown",
      "metadata": {
        "id": "view-in-github",
        "colab_type": "text"
      },
      "source": [
        "<a href=\"https://colab.research.google.com/github/jtaquia/CURSO-ANALITICA-PREDICTIVA/blob/Coeficientes-de-Regresion/Modelos%20de%20Regresion.ipynb\" target=\"_parent\"><img src=\"https://colab.research.google.com/assets/colab-badge.svg\" alt=\"Open In Colab\"/></a>"
      ]
    },
    {
      "metadata": {
        "id": "rbs8WVGPMTNN",
        "colab_type": "code",
        "colab": {}
      },
      "cell_type": "code",
      "source": [
        "\"importamos las librerias necesarias\"\n",
        "\n",
        "import statsmodels.api as sm\n",
        "#\n",
        "from sklearn import datasets ## imports datasets from scikit-learn\n",
        "data = datasets.load_boston() ## loads Boston dataset from datasets library \n",
        "               \n",
        "#import numpy as np\n",
        "#import pandas as pd\n",
        "from pandas.core import datetools\n",
        "\n"
      ],
      "execution_count": 0,
      "outputs": []
    },
    {
      "metadata": {
        "id": "X8pUOL5KSO-h",
        "colab_type": "code",
        "colab": {
          "base_uri": "https://localhost:8080/",
          "height": 34
        },
        "outputId": "1243020d-3dbf-4e89-e5a8-d94b0e1841ea"
      },
      "cell_type": "code",
      "source": [
        "\n",
        "#Convertimos el datas set en un data frame de pandas\n",
        "\n",
        "# define the data/predictors as the pre-set feature names  \n",
        "df = pd.DataFrame(data.data, columns=data.feature_names)\n",
        "\n",
        "df.shape"
      ],
      "execution_count": 7,
      "outputs": [
        {
          "output_type": "execute_result",
          "data": {
            "text/plain": [
              "(506, 13)"
            ]
          },
          "metadata": {
            "tags": []
          },
          "execution_count": 7
        }
      ]
    },
    {
      "metadata": {
        "id": "LBIWaIgtMlbT",
        "colab_type": "text"
      },
      "cell_type": "markdown",
      "source": [
        "# Sección nueva"
      ]
    }
  ]
}